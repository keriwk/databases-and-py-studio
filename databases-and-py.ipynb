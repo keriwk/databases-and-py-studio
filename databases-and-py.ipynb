{
    "metadata": {
        "kernelspec": {
            "name": "python3",
            "display_name": "Python 3 (ipykernel)",
            "language": "python"
        },
        "language_info": {
            "name": "python",
            "version": "3.10.9",
            "mimetype": "text/x-python",
            "codemirror_mode": {
                "name": "ipython",
                "version": 3
            },
            "pygments_lexer": "ipython3",
            "nbconvert_exporter": "python",
            "file_extension": ".py"
        }
    },
    "nbformat_minor": 2,
    "nbformat": 4,
    "cells": [
        {
            "cell_type": "markdown",
            "source": [
                "# Studio: Working with Databases in Python\n",
                "\n",
                "For today's studio, we will be using the [TV Shows dataset](https://www.kaggle.com/ruchi798/tv-shows-on-netflix-prime-video-hulu-and-disney) from Kaggle. We have already downloaded the CSV for you.\n",
                "\n",
                "You will also be using the watchlist you just created to figure out which streaming services contain the shows that you want to watch next so you can decide which one is worth the money to you.\n",
                "\n",
                "As you complete the different tasks in the studio, you may choose between using Pandas or SQL. Remember that during the prep work, we learned that one is oftentimes more efficient at certain tasks than the other, so choose wisely!"
            ],
            "metadata": {
                "azdata_cell_guid": "54326aff-51cd-4766-8046-828a92489c6d"
            },
            "attachments": {}
        },
        {
            "cell_type": "markdown",
            "source": [
                "## My Watchlist\n",
                "\n",
                "If you would like, please use this space to make note of your watchlist by editing the text cell.\n",
                "\n",
                "watchlist:\n",
                "\n",
                "insecure\n",
                "\n",
                "Black Mirror\n",
                "\n",
                "Apollo 10 1/2\n",
                "\n",
                "Seinfield\n",
                "\n",
                "You're the Worst\n",
                "\n",
                "The Patient\n",
                "\n",
                "Werewolves Within\n",
                "\n",
                "I'm Totally Fine\n",
                "\n",
                "better things\n",
                "\n",
                "Casual"
            ],
            "metadata": {
                "azdata_cell_guid": "00bc62ef-6c46-40a2-bdad-a3250a003ce7"
            },
            "attachments": {}
        },
        {
            "cell_type": "markdown",
            "source": [
                "## Database Setup\n",
                "\n",
                "To start with, import the necessary libraries and create a dataframe from the provided CSV. Print the info out for the dataframe. After that, you may drop the column called `Unnamed: 0` and rename any columns with spaces in the names or unusual characters such as `\"+\"`. Print out the info for the dataframe again to ensure that your changes were effective."
            ],
            "metadata": {
                "azdata_cell_guid": "040bdac5-f7fc-474f-b112-1d807249ad0a"
            }
        },
        {
            "cell_type": "code",
            "source": [
                "import pandas as pd\r\n",
                "import sqlite3 as sl\r\n",
                "\r\n",
                "df = pd.read_csv('tv_shows.csv')\r\n",
                "\r\n",
                "print(\"Info for the original DataFrame:\")\r\n",
                "print(df.info())\r\n",
                ""
            ],
            "metadata": {
                "azdata_cell_guid": "965f15d3-27b1-43ed-97e4-8c6fd482476c",
                "tags": [],
                "language": "python"
            },
            "outputs": [
                {
                    "name": "stdout",
                    "text": "Info for the original DataFrame:\n<class 'pandas.core.frame.DataFrame'>\nRangeIndex: 5368 entries, 0 to 5367\nData columns (total 12 columns):\n #   Column           Non-Null Count  Dtype \n---  ------           --------------  ----- \n 0   Unnamed: 0       5368 non-null   int64 \n 1   ID               5368 non-null   int64 \n 2   Title            5368 non-null   object\n 3   Year             5368 non-null   int64 \n 4   Age              3241 non-null   object\n 5   IMDb             4406 non-null   object\n 6   Rotten Tomatoes  5368 non-null   object\n 7   Netflix          5368 non-null   int64 \n 8   Hulu             5368 non-null   int64 \n 9   Prime Video      5368 non-null   int64 \n 10  Disney+          5368 non-null   int64 \n 11  Type             5368 non-null   int64 \ndtypes: int64(8), object(4)\nmemory usage: 503.4+ KB\nNone\n",
                    "output_type": "stream"
                }
            ],
            "execution_count": 5
        },
        {
            "cell_type": "code",
            "source": [
                "df = df.drop(columns=['Unnamed: 0'])\r\n",
                "df = df.rename(columns={\r\n",
                "    'Rotten Tomatoes': 'Rotten_Tomatoes',\r\n",
                "    'Prime Video' : 'Prime_Video',\r\n",
                "    'Disney+': 'Disney_Plus'\r\n",
                "})\r\n",
                "print(df.info())"
            ],
            "metadata": {
                "language": "python",
                "azdata_cell_guid": "93d8eb2d-a30f-4dd4-b2bf-eb728a5f79bd"
            },
            "outputs": [
                {
                    "name": "stdout",
                    "text": "<class 'pandas.core.frame.DataFrame'>\nRangeIndex: 5368 entries, 0 to 5367\nData columns (total 11 columns):\n #   Column           Non-Null Count  Dtype \n---  ------           --------------  ----- \n 0   ID               5368 non-null   int64 \n 1   Title            5368 non-null   object\n 2   Year             5368 non-null   int64 \n 3   Age              3241 non-null   object\n 4   IMDb             4406 non-null   object\n 5   Rotten_Tomatoes  5368 non-null   object\n 6   Netflix          5368 non-null   int64 \n 7   Hulu             5368 non-null   int64 \n 8   Prime_Video      5368 non-null   int64 \n 9   Disney_Plus      5368 non-null   int64 \n 10  Type             5368 non-null   int64 \ndtypes: int64(7), object(4)\nmemory usage: 461.4+ KB\nNone\n",
                    "output_type": "stream"
                }
            ],
            "execution_count": 6
        },
        {
            "cell_type": "markdown",
            "source": [
                "With your dataframe at the ready, create a new database called `tv`. Add a new table to your database called `shows` using the data in the dataframe. "
            ],
            "metadata": {
                "azdata_cell_guid": "93875e01-f1ec-45ab-b8b3-c0fe09c89c41"
            },
            "attachments": {}
        },
        {
            "cell_type": "code",
            "source": [
                "conn = sl.connect('tv.db')\r\n",
                "\r\n",
                "df.to_sql('shows', conn, if_exists='replace', index=False)"
            ],
            "metadata": {
                "azdata_cell_guid": "cae4affc-d930-4649-9c39-551475a83b5b",
                "tags": [],
                "language": "python"
            },
            "outputs": [
                {
                    "data": {
                        "text/plain": "5368"
                    },
                    "metadata": {},
                    "execution_count": 7,
                    "output_type": "execute_result"
                }
            ],
            "execution_count": 7
        },
        {
            "cell_type": "markdown",
            "source": [
                "With your new table and database set up, print out the top 20 records in the `shows` table."
            ],
            "metadata": {
                "azdata_cell_guid": "4916f211-149f-467b-b5e4-22ad946b54f2"
            },
            "attachments": {}
        },
        {
            "cell_type": "code",
            "source": [
                "# conn = sqlite3.connect('tv.db')\r\n",
                "\r\n",
                "sql = 'SELECT * FROM shows LIMIT 20'\r\n",
                "\r\n",
                "df_top_20 = pd.read_sql_query(sql, conn)\r\n",
                "\r\n",
                "conn.close()\r\n",
                "\r\n",
                "print(df_top_20)"
            ],
            "metadata": {
                "azdata_cell_guid": "c6aa3980-3eef-4d7d-8f04-961508662147",
                "tags": [],
                "language": "python"
            },
            "outputs": [
                {
                    "name": "stdout",
                    "text": "    ID                       Title  Year  Age    IMDb Rotten_Tomatoes  \\\n0    1                Breaking Bad  2008  18+  9.4/10         100/100   \n1    2             Stranger Things  2016  16+  8.7/10          96/100   \n2    3             Attack on Titan  2013  18+  9.0/10          95/100   \n3    4            Better Call Saul  2015  18+  8.8/10          94/100   \n4    5                        Dark  2017  16+  8.8/10          93/100   \n5    6  Avatar: The Last Airbender  2005   7+  9.3/10          93/100   \n6    7              Peaky Blinders  2013  18+  8.8/10          93/100   \n7    8            The Walking Dead  2010  18+  8.2/10          93/100   \n8    9                Black Mirror  2011  18+  8.8/10          92/100   \n9   10          The Queen's Gambit  2020  18+  8.6/10          92/100   \n10  11                  Mindhunter  2017  18+  8.6/10          90/100   \n11  12                   Community  2009   7+  8.5/10          90/100   \n12  13                      Narcos  2015  18+  8.8/10          90/100   \n13  14                   Shameless  2011  18+  8.5/10          90/100   \n14  15                 Money Heist  2017  18+  8.3/10          90/100   \n15  16          Marvel's Daredevil  2015  18+  8.6/10          90/100   \n16  17                     Lucifer  2016  16+  8.1/10          90/100   \n17  18                Supernatural  2005  16+  8.4/10          89/100   \n18  19                 The Witcher  2019  18+  8.2/10          89/100   \n19  20                       Ozark  2017  18+  8.4/10          89/100   \n\n    Netflix  Hulu  Prime_Video  Disney_Plus  Type  \n0         1     0            0            0     1  \n1         1     0            0            0     1  \n2         1     1            0            0     1  \n3         1     0            0            0     1  \n4         1     0            0            0     1  \n5         1     0            1            0     1  \n6         1     0            0            0     1  \n7         1     0            0            0     1  \n8         1     0            0            0     1  \n9         1     0            0            0     1  \n10        1     0            0            0     1  \n11        1     1            1            0     1  \n12        1     0            0            0     1  \n13        1     1            1            0     1  \n14        1     0            0            0     1  \n15        1     0            0            0     1  \n16        1     0            0            0     1  \n17        1     0            0            0     1  \n18        1     0            0            0     1  \n19        1     0            0            0     1  \n",
                    "output_type": "stream"
                }
            ],
            "execution_count": 8
        },
        {
            "cell_type": "markdown",
            "source": [
                "Now add a table that includes an id number and the titles on your watchlist."
            ],
            "metadata": {
                "azdata_cell_guid": "f158ccd2-c87a-4d2c-a947-0eadd0484a3e"
            },
            "attachments": {}
        },
        {
            "cell_type": "code",
            "source": [
                "watchlist_titles = [\r\n",
                "    'insecure', 'Black Mirror', 'Apollo 10 1/2', 'Seinfeld',\r\n",
                "    \"You're the Worst\", 'The Patient', 'Werewolves Within',\r\n",
                "    \"I'm Totally Fine\", 'Better Things', 'Casual'\r\n",
                "]\r\n",
                "\r\n",
                "\r\n",
                "watchlist_df = pd.DataFrame({'id': range(1, len(watchlist_titles) + 1), 'title': watchlist_titles})\r\n",
                "\r\n",
                "\r\n",
                "conn = sl.connect('tv.db')\r\n",
                "\r\n",
                "\r\n",
                "watchlist_df.to_sql('watchlist', conn, if_exists='replace', index=False)\r\n",
                "\r\n",
                "\r\n",
                "conn.close()"
            ],
            "metadata": {
                "azdata_cell_guid": "f95defad-521b-4112-8435-08daaac80b80",
                "language": "python"
            },
            "outputs": [],
            "execution_count": 10
        },
        {
            "cell_type": "markdown",
            "source": [
                "## Working with the Data\n",
                "\n",
                "Using either Pandas or SQL, determine how many shows are on each streaming service and what the mean is for each streaming service. \n",
                "\n",
                "**Note**: You may notice that the mean represents the percentage of shows in the dataframe that are on each streaming service. Take a moment to think about why that is."
            ],
            "metadata": {
                "azdata_cell_guid": "4716090d-63e3-4283-8245-934c4a28c750"
            },
            "attachments": {}
        },
        {
            "cell_type": "code",
            "source": [
                "conn = sl.connect('tv.db')\r\n",
                "\r\n",
                "shows_df = pd.read_sql_query(\"SELECT * FROM shows\", conn)\r\n",
                "\r\n",
                "conn.close()\r\n",
                "\r\n",
                "\r\n",
                "streaming_services = ['Netflix', 'Hulu', 'Prime_Video', 'Disney_Plus']\r\n",
                "\r\n",
                "total_shows = len(shows_df)\r\n",
                "\r\n",
                "\r\n",
                "for service in streaming_services:\r\n",
                "    \r\n",
                "    service_count = shows_df[shows_df[service] == 1]['ID'].count()\r\n",
                "    \r\n",
                "    \r\n",
                "    service_percentage = (service_count / total_shows) * 100\r\n",
                "    \r\n",
                "    print(f\"Streaming Service: {service}\")\r\n",
                "    print(f\"Number of shows: {service_count}\")\r\n",
                "    print(f\"Percentage of shows: {service_percentage:.2f}%\\n\")\r\n",
                ""
            ],
            "metadata": {
                "azdata_cell_guid": "8e4f3757-474f-4e20-b861-db973437b541",
                "language": "python"
            },
            "outputs": [
                {
                    "name": "stdout",
                    "text": "Streaming Service: Netflix\nNumber of shows: 1971\nPercentage of shows: 36.72%\n\nStreaming Service: Hulu\nNumber of shows: 1621\nPercentage of shows: 30.20%\n\nStreaming Service: Prime_Video\nNumber of shows: 1831\nPercentage of shows: 34.11%\n\nStreaming Service: Disney_Plus\nNumber of shows: 351\nPercentage of shows: 6.54%\n\n",
                    "output_type": "stream"
                }
            ],
            "execution_count": 13
        },
        {
            "cell_type": "markdown",
            "source": [
                "Join your watchlist data with the shows data to determine which streaming services your watchlist shows are on and make a new table in your database using the joined data. Print out the data in your joined table to see what shows on your watchlist on in the original dataset. With the joined data, determine the percentage of your watchlist shows that are on each streaming service and how many of your watchlist shows are on each streaming service."
            ],
            "metadata": {
                "azdata_cell_guid": "167cbd0d-ad9f-4f27-8066-e45dfdfaf421"
            },
            "attachments": {}
        },
        {
            "cell_type": "code",
            "source": [
                "conn = sl.connect('tv.db')\r\n",
                "\r\n",
                "# joined_df = pd.read_sql_query('''\r\n",
                "#     SELECT w.title AS watchlist_title, s.*\r\n",
                "#     FROM watchlist w\r\n",
                "#     LEFT JOIN shows s ON w.title = s.title\r\n",
                "# ''', conn)\r\n",
                "\r\n",
                "# joined_df.to_sql('watchlist_shows', conn, if_exists='replace', index=False)\r\n",
                "\r\n",
                "\r\n",
                "# print(\"Data in the joined table:\")\r\n",
                "# print(joined_df)\r\n",
                "\r\n",
                "# # percentage for each streaming service\r\n",
                "# streaming_services = ['Netflix', 'Hulu', 'Prime_Video', 'Disney_Plus']\r\n",
                "# for service in streaming_services:\r\n",
                "#     total_watchlist_shows = len(watchlist_df)\r\n",
                "#     shows_on_service = len(joined_df[joined_df[service] == 1])\r\n",
                "#     percentage_on_service = (shows_on_service / total_watchlist_shows) * 100\r\n",
                "#     print(f\"\\nPercentage of watchlist shows on {service}: {percentage_on_service:.2f}%\")\r\n",
                "#     print(f\"Number of watchlist shows on {service}: {shows_on_service}\")\r\n",
                "\r\n",
                "# conn.close()\r\n",
                "\r\n",
                "df_shows_join = pd.read_sql(\"\"\"SELECT * FROM SHOWS as s JOIN Watchlist as w on s.title=w.title\"\"\",conn)\r\n",
                "df_shows_join"
            ],
            "metadata": {
                "azdata_cell_guid": "b871523e-a476-4f3a-a6ac-2e251f140e84",
                "language": "python"
            },
            "outputs": [
                {
                    "data": {
                        "text/plain": "     ID             Title  Year  Age    IMDb Rotten_Tomatoes  Netflix  Hulu  \\\n0     9      Black Mirror  2011  18+  8.8/10          92/100        1     0   \n1  1962          Seinfeld  1989  16+  8.8/10          93/100        0     1   \n2  2103  You're the Worst  2014  18+  8.1/10          77/100        0     1   \n3  2131     Better Things  2016  18+  7.8/10          75/100        0     1   \n4  2249            Casual  2015  18+  7.5/10          70/100        0     1   \n\n   Prime_Video  Disney_Plus  Type  id             title  \n0            0            0     1   2      Black Mirror  \n1            0            0     1   4          Seinfeld  \n2            0            0     1   5  You're the Worst  \n3            0            0     1   9     Better Things  \n4            0            0     1  10            Casual  ",
                        "text/html": "<div>\n<style scoped>\n    .dataframe tbody tr th:only-of-type {\n        vertical-align: middle;\n    }\n\n    .dataframe tbody tr th {\n        vertical-align: top;\n    }\n\n    .dataframe thead th {\n        text-align: right;\n    }\n</style>\n<table border=\"1\" class=\"dataframe\">\n  <thead>\n    <tr style=\"text-align: right;\">\n      <th></th>\n      <th>ID</th>\n      <th>Title</th>\n      <th>Year</th>\n      <th>Age</th>\n      <th>IMDb</th>\n      <th>Rotten_Tomatoes</th>\n      <th>Netflix</th>\n      <th>Hulu</th>\n      <th>Prime_Video</th>\n      <th>Disney_Plus</th>\n      <th>Type</th>\n      <th>id</th>\n      <th>title</th>\n    </tr>\n  </thead>\n  <tbody>\n    <tr>\n      <th>0</th>\n      <td>9</td>\n      <td>Black Mirror</td>\n      <td>2011</td>\n      <td>18+</td>\n      <td>8.8/10</td>\n      <td>92/100</td>\n      <td>1</td>\n      <td>0</td>\n      <td>0</td>\n      <td>0</td>\n      <td>1</td>\n      <td>2</td>\n      <td>Black Mirror</td>\n    </tr>\n    <tr>\n      <th>1</th>\n      <td>1962</td>\n      <td>Seinfeld</td>\n      <td>1989</td>\n      <td>16+</td>\n      <td>8.8/10</td>\n      <td>93/100</td>\n      <td>0</td>\n      <td>1</td>\n      <td>0</td>\n      <td>0</td>\n      <td>1</td>\n      <td>4</td>\n      <td>Seinfeld</td>\n    </tr>\n    <tr>\n      <th>2</th>\n      <td>2103</td>\n      <td>You're the Worst</td>\n      <td>2014</td>\n      <td>18+</td>\n      <td>8.1/10</td>\n      <td>77/100</td>\n      <td>0</td>\n      <td>1</td>\n      <td>0</td>\n      <td>0</td>\n      <td>1</td>\n      <td>5</td>\n      <td>You're the Worst</td>\n    </tr>\n    <tr>\n      <th>3</th>\n      <td>2131</td>\n      <td>Better Things</td>\n      <td>2016</td>\n      <td>18+</td>\n      <td>7.8/10</td>\n      <td>75/100</td>\n      <td>0</td>\n      <td>1</td>\n      <td>0</td>\n      <td>0</td>\n      <td>1</td>\n      <td>9</td>\n      <td>Better Things</td>\n    </tr>\n    <tr>\n      <th>4</th>\n      <td>2249</td>\n      <td>Casual</td>\n      <td>2015</td>\n      <td>18+</td>\n      <td>7.5/10</td>\n      <td>70/100</td>\n      <td>0</td>\n      <td>1</td>\n      <td>0</td>\n      <td>0</td>\n      <td>1</td>\n      <td>10</td>\n      <td>Casual</td>\n    </tr>\n  </tbody>\n</table>\n</div>"
                    },
                    "metadata": {},
                    "execution_count": 25,
                    "output_type": "execute_result"
                }
            ],
            "execution_count": 25
        },
        {
            "cell_type": "code",
            "source": [
                "df_shows_join.mean()"
            ],
            "metadata": {
                "azdata_cell_guid": "1fb5072f-c34a-4fe3-bce8-31cf62171dc4",
                "language": "python"
            },
            "outputs": [
                {
                    "name": "stderr",
                    "text": "C:\\Users\\kkoehler\\AppData\\Local\\Temp\\ipykernel_35396\\588940999.py:1: FutureWarning: The default value of numeric_only in DataFrame.mean is deprecated. In a future version, it will default to False. In addition, specifying 'numeric_only=None' is deprecated. Select only valid columns or specify the value of numeric_only to silence this warning.\n  df_shows_join.mean()\n",
                    "output_type": "stream"
                },
                {
                    "data": {
                        "text/plain": "ID             1690.8\nYear           2009.0\nNetflix           0.2\nHulu              0.8\nPrime_Video       0.0\nDisney_Plus       0.0\nType              1.0\nid                6.0\ndtype: float64"
                    },
                    "metadata": {},
                    "execution_count": 23,
                    "output_type": "execute_result"
                }
            ],
            "execution_count": 23
        },
        {
            "cell_type": "code",
            "source": [
                "df_shows_join.sum()"
            ],
            "metadata": {
                "azdata_cell_guid": "9e2d750d-85a4-42b0-acaa-bae317e36efc",
                "language": "python"
            },
            "outputs": [
                {
                    "data": {
                        "text/plain": "ID                                                              8454\nTitle              Black MirrorSeinfeldYou're the WorstBetter Thi...\nYear                                                           10045\nAge                                                  18+16+18+18+18+\nIMDb                                  8.8/108.8/108.1/107.8/107.5/10\nRotten_Tomatoes                       92/10093/10077/10075/10070/100\nNetflix                                                            1\nHulu                                                               4\nPrime_Video                                                        0\nDisney_Plus                                                        0\nType                                                               5\nid                                                                30\ntitle              Black MirrorSeinfeldYou're the WorstBetter Thi...\ndtype: object"
                    },
                    "metadata": {},
                    "execution_count": 26,
                    "output_type": "execute_result"
                }
            ],
            "execution_count": 26
        },
        {
            "cell_type": "markdown",
            "source": [
                "## Results\n",
                "\n",
                "Now that you have done your analysis, make note of the answers to the following questions by editing the text cell:\n",
                "\n",
                "1. Was every show on your watchlist in the Kaggle dataset? Do you have any ideas as to why a show might not have been present? No. Either they have been removed from the streaming service or the titles don't match. \n",
                "2. Did you include a show or shows in your watchlist that is exclusive to one of the platforms? How might that have impacted your analysis? That particular streaming service would have a higher percentage of my watchlist. \n",
                "3. Which streaming service(s) offered the most shows on your watchlist? Which streaming service(s) offered the least? Hulu offered the most; Prime and Disney both the least (0%).\n",
                "4. Based on the shows you want to watch and the results of your analysis, is there a streaming service you think would be a good fit for you? Hulu"
            ],
            "metadata": {
                "azdata_cell_guid": "909689e4-1aae-41e3-b1f8-158ebe5ec3ca"
            },
            "attachments": {}
        }
    ]
}